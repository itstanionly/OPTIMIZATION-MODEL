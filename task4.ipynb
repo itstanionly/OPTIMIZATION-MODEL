{
  "nbformat": 4,
  "nbformat_minor": 0,
  "metadata": {
    "colab": {
      "provenance": []
    },
    "kernelspec": {
      "name": "python3",
      "display_name": "Python 3"
    },
    "language_info": {
      "name": "python"
    }
  },
  "cells": [
    {
      "cell_type": "code",
      "execution_count": 1,
      "metadata": {
        "colab": {
          "base_uri": "https://localhost:8080/"
        },
        "id": "kG7RJGE4VOrO",
        "outputId": "6eda9834-a546-45b9-b598-ac6a0e895dc3"
      },
      "outputs": [
        {
          "output_type": "stream",
          "name": "stdout",
          "text": [
            "Collecting pulp\n",
            "  Downloading pulp-3.2.1-py3-none-any.whl.metadata (6.9 kB)\n",
            "Downloading pulp-3.2.1-py3-none-any.whl (16.4 MB)\n",
            "\u001b[2K   \u001b[90m━━━━━━━━━━━━━━━━━━━━━━━━━━━━━━━━━━━━━━━━\u001b[0m \u001b[32m16.4/16.4 MB\u001b[0m \u001b[31m20.0 MB/s\u001b[0m eta \u001b[36m0:00:00\u001b[0m\n",
            "\u001b[?25hInstalling collected packages: pulp\n",
            "Successfully installed pulp-3.2.1\n"
          ]
        }
      ],
      "source": [
        "!pip install pulp\n"
      ]
    },
    {
      "cell_type": "code",
      "source": [
        "import pulp\n",
        "from pulp import LpMaximize, LpMinimize, LpProblem, LpVariable, lpSum, value\n"
      ],
      "metadata": {
        "id": "j4-lLhbkVsbp"
      },
      "execution_count": 2,
      "outputs": []
    },
    {
      "cell_type": "code",
      "source": [
        "# 💼 Business Problem Definition\n",
        "# A factory produces Chairs and Tables.\n",
        "# Each Chair requires:\n",
        "#   - 3 hours of labor\n",
        "#   - 5 units of wood\n",
        "# Each Table requires:\n",
        "#   - 4 hours of labor\n",
        "#   - 7 units of wood\n",
        "# Available resources:\n",
        "#   - Labor: 240 hours\n",
        "#   - Wood: 350 units\n",
        "# Profit:\n",
        "#   - ₹200 per Chair\n",
        "#   - ₹300 per Table\n",
        "\n",
        "# 🎯 Goal: Maximize total profit\n"
      ],
      "metadata": {
        "id": "mJo3DmvbV_05"
      },
      "execution_count": 3,
      "outputs": []
    },
    {
      "cell_type": "markdown",
      "source": [
        "### 📋 Problem Table\n",
        "\n",
        "| Resource | Chair Usage | Table Usage | Available |\n",
        "|----------|-------------|-------------|-----------|\n",
        "| Labor    | 3 hours     | 4 hours     | 240 hours |\n",
        "| Wood     | 5 units     | 7 units     | 350 units |\n",
        "| Profit   | ₹200/chair  | ₹300/table  |           |\n",
        "\n",
        "🎯 **Goal**: Maximize profit under resource constraints\n"
      ],
      "metadata": {
        "id": "TC5f7eHqWDbP"
      }
    },
    {
      "cell_type": "code",
      "source": [
        "# 🧮 Decision Variables\n",
        "# Let x = number of Chairs, y = number of Tables\n",
        "\n",
        "x = LpVariable(\"Chairs\", lowBound=0, cat='Integer')   # x >= 0\n",
        "y = LpVariable(\"Tables\", lowBound=0, cat='Integer')   # y >= 0\n"
      ],
      "metadata": {
        "id": "E0mjR8wZWFUm"
      },
      "execution_count": 4,
      "outputs": []
    },
    {
      "cell_type": "code",
      "source": [
        "# 🎯 Objective: Maximize total profit\n",
        "model = LpProblem(\"Product_Mix_Optimization\", LpMaximize)\n",
        "\n",
        "# Profit = 200*x + 300*y\n",
        "model += 200 * x + 300 * y, \"Total_Profit\"\n"
      ],
      "metadata": {
        "id": "Nl-bUoGHWPZ2"
      },
      "execution_count": 5,
      "outputs": []
    },
    {
      "cell_type": "code",
      "source": [
        "# 📌 Constraints\n",
        "model += 3 * x + 4 * y <= 240, \"Labor_Constraint\"    # Total labor used\n",
        "model += 5 * x + 7 * y <= 350, \"Wood_Constraint\"     # Total wood used\n"
      ],
      "metadata": {
        "id": "95ywwgliWR_r"
      },
      "execution_count": 6,
      "outputs": []
    },
    {
      "cell_type": "code",
      "source": [
        "# 🔧 Solve the model\n",
        "model.solve()\n",
        "\n",
        "# 📝 Print status\n",
        "print(\"Solver Status:\", pulp.LpStatus[model.status])\n"
      ],
      "metadata": {
        "colab": {
          "base_uri": "https://localhost:8080/"
        },
        "id": "uvUCKYb_WU46",
        "outputId": "811a18d6-bf2a-458c-933d-3d114b09f5a3"
      },
      "execution_count": 7,
      "outputs": [
        {
          "output_type": "stream",
          "name": "stdout",
          "text": [
            "Solver Status: Optimal\n"
          ]
        }
      ]
    },
    {
      "cell_type": "code",
      "source": [
        "# 📊 Results\n",
        "print(\"Optimal Production Plan:\")\n",
        "print(f\"Chairs to produce: {x.varValue}\")\n",
        "print(f\"Tables to produce: {y.varValue}\")\n",
        "print(f\"Maximum Profit: ₹{value(model.objective)}\")\n"
      ],
      "metadata": {
        "colab": {
          "base_uri": "https://localhost:8080/"
        },
        "id": "mt83vLyiWXnH",
        "outputId": "e92add44-3cf1-4303-91d0-f2ee672e033c"
      },
      "execution_count": 8,
      "outputs": [
        {
          "output_type": "stream",
          "name": "stdout",
          "text": [
            "Optimal Production Plan:\n",
            "Chairs to produce: 0.0\n",
            "Tables to produce: 50.0\n",
            "Maximum Profit: ₹15000.0\n"
          ]
        }
      ]
    },
    {
      "cell_type": "markdown",
      "source": [
        "### 📈 Insights & Conclusion\n",
        "\n",
        "Based on the optimization results:\n",
        "\n",
        "- ✅ To **maximize profit**, the factory should produce:\n",
        "  - **0 Chairs**\n",
        "  - **50 Tables**\n",
        "  \n",
        "- ✅ This production plan will yield a **maximum profit of ₹15,000**.\n",
        "\n",
        "### 💡 Interpretation:\n",
        "The model shows that producing only **Tables** is more profitable under the given resource constraints. This could be because:\n",
        "- Tables provide higher profit per unit (₹300 vs ₹200)\n",
        "- Tables use resources more efficiently relative to their profit contribution.\n",
        "\n",
        "### 🧠 Business Takeaway:\n",
        "Optimization techniques like **Linear Programming** help businesses:\n",
        "- Make the best use of **limited resources**\n",
        "- Increase **profitability**\n",
        "- Improve **production planning**\n",
        "\n",
        "✅ This is a **real-world application** of data science in **manufacturing & operations**.\n",
        "\n",
        "---\n"
      ],
      "metadata": {
        "id": "BKn3z-pmWrEc"
      }
    },
    {
      "cell_type": "code",
      "source": [],
      "metadata": {
        "id": "-IohGzpLWchr"
      },
      "execution_count": null,
      "outputs": []
    }
  ]
}